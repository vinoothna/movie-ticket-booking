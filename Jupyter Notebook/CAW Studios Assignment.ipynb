{
 "cells": [
  {
   "cell_type": "markdown",
   "metadata": {},
   "source": [
    "### `<CAW> Studios` Backend Dev Assignment\n",
    "\n",
    "\n",
    "##### The below codes are mainly used for data population in mongoDB collections\n",
    "\n",
    "There are two files namely:\n",
    "- TheatresCSV.csv\n",
    "- MovieCSV.csv<br/>\n",
    "\n",
    "which are used to populate the data in mongoDB theatre collection and Movies collection"
   ]
  },
  {
   "cell_type": "code",
   "execution_count": 3,
   "metadata": {},
   "outputs": [],
   "source": [
    "import csv\n",
    "import re\n",
    "import datetime \n",
    "from random import randint, choice\n",
    "from pymongo import MongoClient"
   ]
  },
  {
   "cell_type": "code",
   "execution_count": null,
   "metadata": {},
   "outputs": [],
   "source": [
    "client = MongoClient(\"mongodb+srv://YOUR MONGO SRV CONNECTION STRING\")\n",
    "db = client.bookmyshow\n",
    "\n",
    "'''\n",
    "DATABASE: bookmyshow\n",
    "\n",
    "# COLLECTIONS:\n",
    "- user\n",
    "- movie\n",
    "- theatre\n",
    "- screen\n",
    "- show\n",
    "- seating\n",
    "- booking\n",
    "- city\n",
    "- session_info\n",
    "\n",
    "'''"
   ]
  },
  {
   "cell_type": "markdown",
   "metadata": {},
   "source": [
    "##### Populate city collection\n"
   ]
  },
  {
   "cell_type": "code",
   "execution_count": null,
   "metadata": {},
   "outputs": [],
   "source": [
    "def populate_cities(db):\n",
    "    city_col = db.city\n",
    "    lst = [\"Bengaluru\",\"Hyderabad\",\"Mumbai\",\"Chennai\",\"Kolkata\",\"Pune\",\"Delhi\",\"Ahmedabad\",\"Chandigarh\",\"Jaipur\"]\n",
    "    for city in lst:\n",
    "        ins_id = city_col.insert_one({\"name\":city})\n",
    "        print(ins_id)"
   ]
  },
  {
   "cell_type": "markdown",
   "metadata": {},
   "source": [
    "##### Populate theatre collection\n"
   ]
  },
  {
   "cell_type": "code",
   "execution_count": null,
   "metadata": {},
   "outputs": [],
   "source": [
    "def populate_theatres(db):\n",
    "    col = db.theatre\n",
    "    \n",
    "    with open('./data/TheatresCSV.csv', newline='') as csvfile:\n",
    "        reader = csv.DictReader(csvfile)\n",
    "        for row in reader:\n",
    "            address = row[\"address\"].replace('\"',\"\")\n",
    "            theatre = {\"name\":row[\"name\"],\"address\":address,\"contact\":row[\"contact\"],\"city\":row[\"city\"]}\n",
    "            ID = col.insert_one(theatre)\n",
    "            print(ID)\n",
    "\n",
    "populate_theatres(db)"
   ]
  },
  {
   "cell_type": "markdown",
   "metadata": {},
   "source": [
    "##### Populate movie collection\n"
   ]
  },
  {
   "cell_type": "code",
   "execution_count": null,
   "metadata": {},
   "outputs": [],
   "source": [
    "def populate_movies(db):\n",
    "    movie_col = db.movie\n",
    "    \n",
    "    with open('./data/MovieCSV.csv', newline='') as csvfile:\n",
    "        reader = csv.DictReader(csvfile)\n",
    "        for row in reader:\n",
    "            genre = row[\"genre\"].split(\"|\")\n",
    "            cast = row[\"cast\"].split(\"|\")\n",
    "            movie = {\"name\":row[\"name\"], \"language\":row[\"language\"], \"genre\":genre, \"cast\":cast, \"director\":row[\"director\"],\"release_date\":row[\"release_date\"],\"duration\":eval(row[\"duration\"])}\n",
    "            movie_col.insert_one(movie)\n",
    "\n",
    "\n",
    "populate_movies(db)"
   ]
  },
  {
   "cell_type": "code",
   "execution_count": null,
   "metadata": {},
   "outputs": [],
   "source": [
    "''' USERs are manually created using signup API'''\n",
    "\n",
    "# def populate_users(db, mflixdb):\n",
    "#     user_col = db.user\n",
    "#     user_mflix = mflixdb.users\n",
    "    \n",
    "#     cnt = 0\n",
    "#     for user in user_mflix.find():\n",
    "#         if(cnt == 10):\n",
    "#             break\n",
    "#         user.pop(\"_id\")\n",
    "#         ID = user_col.insert_one(user)\n",
    "#         print(ID)\n",
    "#         cnt+=1\n",
    "\n",
    "# populate_users(db, mflixdb)\n",
    "\n"
   ]
  },
  {
   "cell_type": "markdown",
   "metadata": {},
   "source": [
    "##### Populate screen collection\n"
   ]
  },
  {
   "cell_type": "code",
   "execution_count": null,
   "metadata": {},
   "outputs": [],
   "source": [
    "# Randomly generate between (1,3) screens for each theatre\n",
    "\n",
    "def populate_screens(db):\n",
    "    screen_col = db.screen\n",
    "    theatre_col = db.theatre\n",
    "    \n",
    "    for theatre in theatre_col.find():\n",
    "        t_id = theatre[\"_id\"]\n",
    "        no_screens = randint(1,3)\n",
    "        for num in range(1,no_screens+1):\n",
    "            screen = {\"theatre_id\":t_id, \"name\":\"SCR-\"+str(num)}\n",
    "            screen_col.insert_one(screen)\n",
    "        theatre_col.update({\"_id\":t_id},{\"$set\":{\"no_screens\":no_screens}})\n",
    "    \n",
    "    \n",
    "\n",
    "populate_screens(db)"
   ]
  },
  {
   "cell_type": "markdown",
   "metadata": {},
   "source": [
    "##### Populate shows collection\n"
   ]
  },
  {
   "cell_type": "code",
   "execution_count": null,
   "metadata": {},
   "outputs": [],
   "source": [
    "## CHOOSE THE MOVIES WITH REGIONAL LANGUAGE\n",
    "## to do : create a language preference to choose movies to show\n",
    "\n",
    "\n",
    "def populate_shows(db):\n",
    "    movie_col = db.movie\n",
    "    theatre_col = db.theatre\n",
    "    screen_col = db.screen\n",
    "    show_col = db.show\n",
    "    city_col = db.city\n",
    "    \n",
    "    recent_movies = []\n",
    "    \n",
    "    # CHANGE REGEX THIS TO THIS MONTH AND LAST MONTH\n",
    "    d = datetime.date.today().month\n",
    "\n",
    "    this_month = datetime.date(2020,d.month,1).strftime('%b')\n",
    "    last_month = datetime.date(2020,d.month-1,1).strftime('%b')\n",
    "    regexp = \".*-\"+last_month+\"-20\"+\"|.*-\"+this_month+\"-20\"\n",
    "    for movie in movie_col.find({\"release_date\":{\"$regex\":regexp}}):\n",
    "        recent_movies.append(movie)\n",
    "        \n",
    "    if(recent_movies == []):return\n",
    "    \n",
    "    for theatre in theatre_col.find():\n",
    "        no_movies_to_show = randint(2,4)\n",
    "        movies_list = recent_movies[:]\n",
    "      \n",
    "        movies_show = [] # FINAL LIST OF MOVIES TO SCREEN\n",
    "        while(no_movies_to_show):\n",
    "            movie = choice(movies_list)\n",
    "            if(movie not in movies_show):\n",
    "                movies_show.append(movie)\n",
    "                no_movies_to_show-=1\n",
    "        \n",
    "        \n",
    "        \n",
    "#         TO GIVE FIRST PRIORITY TO MOVIES IN REGIONAL LANGUAGES\n",
    "#         regional_movies = []        \n",
    "#         regional_language = city_col.find_one({\"_id\":theatre[\"city_id\"]})[\"regional_language\"]\n",
    "#         for movie in recent_movies:\n",
    "#             if movie[\"language\"] == regional_language:\n",
    "#                 regional_movies.append(movie)\n",
    "#                 movies_list.remove(movie)\n",
    "#                 break  ## Adding one regional movie to screen\n",
    "        \n",
    "        \n",
    "#         if(regional_movies):\n",
    "#             if(len(regional_movies)<= no_movies_to_show):\n",
    "#                 movies_show+=regional_movies\n",
    "#                 left = no_movies_to_show - len(regional_movies)\n",
    "        \n",
    "#         if(movies_list!=[]):\n",
    "#             for i in range(0,left):\n",
    "#                 random_movie = choice(movies_list)\n",
    "#                 movies_show.append(random_movie)\n",
    "#                 movies_list.remove(random_movie)\n",
    "            \n",
    "        no_screens = theatre[\"no_screens\"]\n",
    "        \n",
    "        if(no_screens == 1):\n",
    "            timings = {\"SCR-1\":[\"09:30 AM\",\"01:10 PM\",\"04:50 PM\",\"08:15 PM\"]}\n",
    "        elif(no_screens == 2):\n",
    "            timings = {\"SCR-1\":[\"09:30 AM\",\"12:15 PM\",\"03:30 PM\",\"06:45 PM\",\"10:00 PM\"],\n",
    "                       \"SCR-2\":[\"10:15 PM\",\"01:10 PM\",\"04:40 PM\",\"07:45 PM\"]}\n",
    "        elif(no_screens == 3):\n",
    "            timings = {\"SCR-1\":[\"09:30 AM\",\"12:45 PM\",\"03:55 PM\",\"07:15 PM\"],\n",
    "                       \"SCR-2\":[\"08:45 AM\",\"12:15 PM\",\"04:00 PM\",\"07:10 PM\"],\n",
    "                       \"SCR-3\":[\"09:00 AM\",\"12:05 PM\",\"03:30 PM\",\"05:50 PM\",\"10:15 PM\"]}\n",
    "            \n",
    "        \n",
    "        \n",
    "        \n",
    "        ## CREATE SHOWS FOR THE NEXT ONE WEEKS ##\n",
    "                \n",
    "        today = datetime.date.today()\n",
    "        \n",
    "               \n",
    "        no_days = 7   ## No of days from today for which shows are created\n",
    "        \n",
    "        for day in range(1,no_days+1):\n",
    "            for screen in screen_col.find({\"theatre_id\":theatre[\"_id\"]}):\n",
    "                times = timings[screen[\"name\"]]\n",
    "                for time in times:\n",
    "                    #print(\"MOVIES SELECTED =\", movies_show)\n",
    "                    movie = choice(movies_show)#RANDOMLY CHOOSE FROM MOVIES_SHOW\n",
    "                    show = {\"show_time\":time,\"date\":str(today + datetime.timedelta(days = day)),\"screen_id\":screen[\"_id\"],\"movie_id\":movie[\"_id\"],\"theatre_id\":theatre[\"_id\"]}\n",
    "                    show_col.insert_one(show)\n",
    "                    \n",
    "        current_movie_ids = [ movie['_id'] for movie in movies_show ]\n",
    "        theatre_col.update_one({\"_id\":theatre[\"_id\"]},{\"$set\":{\"currently_playing\":current_movie_ids}})       \n",
    "                \n",
    "                \n",
    "populate_shows(db)"
   ]
  },
  {
   "cell_type": "markdown",
   "metadata": {},
   "source": [
    "##### Populate seating collection\n"
   ]
  },
  {
   "cell_type": "code",
   "execution_count": null,
   "metadata": {},
   "outputs": [],
   "source": [
    "'''\n",
    "ASSUMING : Total Number of Seats per Screen is 150 where \n",
    "\n",
    "lounge = 20 seats   [Rows = N, O]\n",
    "platinum = 50 seats [Rows = I,J,K,L,M]\n",
    "gold = 50 seats     [Rows = D,E,F,G,H]\n",
    "dress_circle = 30   [Rows = A,B,C]\n",
    "Each row consists of 10 seats\n",
    "\n",
    "'''\n",
    "\n",
    "def get_seats_config():\n",
    "    rows = ['A', 'B', 'C', 'D', 'E', 'F', 'G', 'H', 'I', 'J', 'K', 'L', 'M', 'N', 'O']\n",
    "    seats = {\"dress_circle\":{}, \"gold\":{}, \"platinum\":{}, \"lounge\":{}}\n",
    "    \n",
    "    \n",
    "    for ind in range(0,len(rows)):\n",
    "        each_row = {}\n",
    "        for i in range(1,11):\n",
    "            if(ind<=2):\n",
    "                seats[\"dress_circle\"][rows[ind]+str(i)] = 0\n",
    "            elif (ind>2 and ind<8):\n",
    "                seats[\"gold\"][rows[ind]+str(i)] = 0\n",
    "            elif (ind>=8 and ind<13):\n",
    "                seats[\"platinum\"][rows[ind]+str(i)] = 0\n",
    "            else:\n",
    "                seats[\"lounge\"][rows[ind]+str(i)] = 0\n",
    "    \n",
    "    return seats\n",
    "\n",
    "def populate_seats(db):\n",
    "    seat_col = db.seating\n",
    "    show_col = db.show\n",
    "    \n",
    "    for show in show_col.find():\n",
    "        seats_config = get_seats_config()\n",
    "        seats = {\"seats\":seats_config,\"show_id\":show[\"_id\"]}\n",
    "        seat_col.insert_one(seats)\n",
    "    \n",
    "                \n",
    "populate_seats(db)"
   ]
  }
 ],
 "metadata": {
  "kernelspec": {
   "display_name": "Python 3",
   "language": "python",
   "name": "python3"
  },
  "language_info": {
   "codemirror_mode": {
    "name": "ipython",
    "version": 3
   },
   "file_extension": ".py",
   "mimetype": "text/x-python",
   "name": "python",
   "nbconvert_exporter": "python",
   "pygments_lexer": "ipython3",
   "version": "3.6.9"
  }
 },
 "nbformat": 4,
 "nbformat_minor": 2
}
